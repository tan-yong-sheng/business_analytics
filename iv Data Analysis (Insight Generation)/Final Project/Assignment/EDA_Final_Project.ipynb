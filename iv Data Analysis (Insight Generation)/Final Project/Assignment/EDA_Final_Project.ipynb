{
 "cells": [
  {
   "cell_type": "markdown",
   "metadata": {},
   "source": [
    "### Python EDA FINAL PROJECT\n",
    "\n",
    "By now you should be comfortable with working on an end to end Exploratory Data Analysis in Python. For this final assignment/project, we would like you to study and pick a dataset from one of the links below. Treat the project as a business case and solve the problem. A total of **100 points** is allocated to this project.\n",
    "\n",
    "**Datasets chosen:**\n",
    "\n",
    "Food Chain Campaign( a bit more on statistics): https://www.kaggle.com/datasets/chebotinaa/fast-food-marketing-campaign-ab-test"
   ]
  },
  {
   "cell_type": "markdown",
   "metadata": {},
   "source": [
    "**Rubric as below:**\n",
    "\n",
    "| Section           | Criteria                                                                                                     | Points |\n",
    "|-------------------|--------------------------------------------------------------------------------------------------------------|--------|\n",
    "| Project Scope     | Is the project goals and objectives mentioned?                                                               | 5      |\n",
    "| Analysis          | Data is cleaned and transformed properly                                                                     | 5      |\n",
    "|                   | Basic metadata exploration and data columns to variable type have been mapped out clearly                   | 5      |\n",
    "|                   | At least 10 questions are asked and these are related to the business case                                   | 5      |\n",
    "|                   | The student has analyzed the data using univariate analysis and written his insights                         | 5      |\n",
    "|                   | The student has analyzed the data using bivariate analysis and written his insights                           | 5      |\n",
    "|                   | The student has analyzed the data using multivariate analysis and written his insights                         | 5      |\n",
    "|                   | The student has used the correct charts and plots for each type of analysis and interpreted them correctly. At least three charts for each type of analysis | 10     |\n",
    "|                   | The student has used different elements to describe the graph(labels for each axis, legend if required, title, aesthetics - styles, colors, size, etc.) | 5      |\n",
    "|                   | Use of statistics - Measures of central tendency (mean, median, mode, quartiles), spread (standard deviation, variance, range, IQR), Shape (Kurtosis, Skewness, and Modality), and Frequencies, Co-occurrences, and/or other statistical analysis method | 5      |\n",
    "| Code Quality      | No errors produced while running the notebook, code is readable                                              | 10     |\n",
    "| Overall conclusions| At least 3 important insights and final conclusions are included.                                           | 20     |\n",
    "|                   | The insights should be interesting enough instead of just out of common sense.                              |        |\n",
    "|                   | The conclusions are drawn logically and reasonably without logic fallacy                                    | 5      |\n",
    "|                   | The project included potential actions or next steps that could be taken, based on the analysis                | 10     |\n"
   ]
  },
  {
   "cell_type": "markdown",
   "metadata": {},
   "source": [
    "---------------------------------------------------------"
   ]
  },
  {
   "cell_type": "markdown",
   "metadata": {},
   "source": [
    "# Fast Food Marketing Campaign A/B Test"
   ]
  },
  {
   "cell_type": "markdown",
   "metadata": {},
   "source": [
    "**About data**\n",
    "\n",
    "A fast-food chain plans to add a new item to its menu. However, they are still undecided between three possible marketing campaigns for promoting the new product. In order to determine which promotion has the greatest effect on sales, the new item is introduced at locations in several randomly selected markets. A different promotion is used at each location, and the weekly sales of the new item are recorded for the first four weeks.\n",
    "\n",
    "**Objective:** \n",
    "\n",
    "Evaluate A/B testing results and decide which marketing strategy works the best and has statistically significantly differences among the test groups to increase sales.\n",
    "\n",
    "Hypothesis:\n",
    "\n",
    "1.  \n",
    "\n",
    "2. \n",
    "\n",
    "3. Does different promotions result in significantly different sales outcomes (SalesInThousands)?\n",
    "\n",
    "4. "
   ]
  },
  {
   "cell_type": "code",
   "execution_count": 1,
   "metadata": {},
   "outputs": [],
   "source": [
    "import pandas\n",
    "import os\n",
    "import matplotlib.pyplot as plt\n",
    "import seaborn as sns\n",
    "import statsmodels.api as sm\n",
    "\n",
    "import warnings\n",
    "warnings.filterwarnings(action=\"ignore\")"
   ]
  },
  {
   "cell_type": "code",
   "execution_count": 2,
   "metadata": {},
   "outputs": [
    {
     "name": "stdout",
     "output_type": "stream",
     "text": [
      "Python 3.9.0\n"
     ]
    }
   ],
   "source": [
    "!python --version"
   ]
  },
  {
   "cell_type": "code",
   "execution_count": 3,
   "metadata": {},
   "outputs": [
    {
     "name": "stdout",
     "output_type": "stream",
     "text": [
      "pip 23.1.2 from C:\\Users\\yongsheng.tan\\AppData\\Local\\miniconda3\\envs\\quant_lab\\lib\\site-packages\\pip (python 3.9)\n",
      "\n"
     ]
    }
   ],
   "source": [
    "!pip --version"
   ]
  },
  {
   "cell_type": "code",
   "execution_count": 4,
   "metadata": {},
   "outputs": [],
   "source": [
    "%matplotlib inline"
   ]
  },
  {
   "cell_type": "markdown",
   "metadata": {},
   "source": [
    "## Data Cleaning"
   ]
  },
  {
   "cell_type": "code",
   "execution_count": 5,
   "metadata": {},
   "outputs": [
    {
     "data": {
      "text/html": [
       "<div>\n",
       "<style scoped>\n",
       "    .dataframe tbody tr th:only-of-type {\n",
       "        vertical-align: middle;\n",
       "    }\n",
       "\n",
       "    .dataframe tbody tr th {\n",
       "        vertical-align: top;\n",
       "    }\n",
       "\n",
       "    .dataframe thead th {\n",
       "        text-align: right;\n",
       "    }\n",
       "</style>\n",
       "<table border=\"1\" class=\"dataframe\">\n",
       "  <thead>\n",
       "    <tr style=\"text-align: right;\">\n",
       "      <th></th>\n",
       "      <th>MarketID</th>\n",
       "      <th>MarketSize</th>\n",
       "      <th>LocationID</th>\n",
       "      <th>AgeOfStore</th>\n",
       "      <th>Promotion</th>\n",
       "      <th>week</th>\n",
       "      <th>SalesInThousands</th>\n",
       "    </tr>\n",
       "  </thead>\n",
       "  <tbody>\n",
       "    <tr>\n",
       "      <th>0</th>\n",
       "      <td>1</td>\n",
       "      <td>Medium</td>\n",
       "      <td>1</td>\n",
       "      <td>4</td>\n",
       "      <td>3</td>\n",
       "      <td>1</td>\n",
       "      <td>33.73</td>\n",
       "    </tr>\n",
       "    <tr>\n",
       "      <th>1</th>\n",
       "      <td>1</td>\n",
       "      <td>Medium</td>\n",
       "      <td>1</td>\n",
       "      <td>4</td>\n",
       "      <td>3</td>\n",
       "      <td>2</td>\n",
       "      <td>35.67</td>\n",
       "    </tr>\n",
       "    <tr>\n",
       "      <th>2</th>\n",
       "      <td>1</td>\n",
       "      <td>Medium</td>\n",
       "      <td>1</td>\n",
       "      <td>4</td>\n",
       "      <td>3</td>\n",
       "      <td>3</td>\n",
       "      <td>29.03</td>\n",
       "    </tr>\n",
       "    <tr>\n",
       "      <th>3</th>\n",
       "      <td>1</td>\n",
       "      <td>Medium</td>\n",
       "      <td>1</td>\n",
       "      <td>4</td>\n",
       "      <td>3</td>\n",
       "      <td>4</td>\n",
       "      <td>39.25</td>\n",
       "    </tr>\n",
       "    <tr>\n",
       "      <th>4</th>\n",
       "      <td>1</td>\n",
       "      <td>Medium</td>\n",
       "      <td>2</td>\n",
       "      <td>5</td>\n",
       "      <td>2</td>\n",
       "      <td>1</td>\n",
       "      <td>27.81</td>\n",
       "    </tr>\n",
       "  </tbody>\n",
       "</table>\n",
       "</div>"
      ],
      "text/plain": [
       "   MarketID MarketSize  LocationID  AgeOfStore  Promotion  week  \\\n",
       "0         1     Medium           1           4          3     1   \n",
       "1         1     Medium           1           4          3     2   \n",
       "2         1     Medium           1           4          3     3   \n",
       "3         1     Medium           1           4          3     4   \n",
       "4         1     Medium           2           5          2     1   \n",
       "\n",
       "   SalesInThousands  \n",
       "0             33.73  \n",
       "1             35.67  \n",
       "2             29.03  \n",
       "3             39.25  \n",
       "4             27.81  "
      ]
     },
     "execution_count": 5,
     "metadata": {},
     "output_type": "execute_result"
    }
   ],
   "source": [
    "df = pandas.read_csv(\"WA_Marketing-Campaign.csv\")\n",
    "df.head()"
   ]
  },
  {
   "cell_type": "code",
   "execution_count": 6,
   "metadata": {},
   "outputs": [],
   "source": [
    "# change data type of dataframe\n",
    "category_variable = [\"MarketID\", \"MarketSize\", \"LocationID\",\"Promotion\",\"week\"]\n",
    "\n",
    "df2 = df.copy()\n",
    "df2[category_variable] = df2[category_variable].astype(\"category\")"
   ]
  },
  {
   "cell_type": "code",
   "execution_count": 151,
   "metadata": {},
   "outputs": [
    {
     "name": "stdout",
     "output_type": "stream",
     "text": [
      "MarketID            category\n",
      "MarketSize          category\n",
      "LocationID          category\n",
      "AgeOfStore             int64\n",
      "Promotion           category\n",
      "week                category\n",
      "SalesInThousands     float64\n",
      "dtype: object\n"
     ]
    }
   ],
   "source": [
    "# check metadata\n",
    "print(df2.dtypes)"
   ]
  },
  {
   "cell_type": "code",
   "execution_count": 150,
   "metadata": {},
   "outputs": [
    {
     "data": {
      "text/plain": [
       "MarketID            0\n",
       "MarketSize          0\n",
       "LocationID          0\n",
       "AgeOfStore          0\n",
       "Promotion           0\n",
       "week                0\n",
       "SalesInThousands    0\n",
       "dtype: int64"
      ]
     },
     "execution_count": 150,
     "metadata": {},
     "output_type": "execute_result"
    }
   ],
   "source": [
    "# check if there is any missing values\n",
    "df2.isna().sum()"
   ]
  },
  {
   "cell_type": "code",
   "execution_count": 9,
   "metadata": {},
   "outputs": [
    {
     "data": {
      "text/plain": [
       "0"
      ]
     },
     "execution_count": 9,
     "metadata": {},
     "output_type": "execute_result"
    }
   ],
   "source": [
    "# check if any row of records is duplicated\n",
    "df2.duplicated().sum()"
   ]
  },
  {
   "cell_type": "markdown",
   "metadata": {},
   "source": [
    "## Analysis"
   ]
  },
  {
   "cell_type": "code",
   "execution_count": 77,
   "metadata": {},
   "outputs": [
    {
     "data": {
      "image/png": "[encoded data removed]",
      "text/plain": [
       "<Figure size 640x480 with 1 Axes>"
      ]
     },
     "metadata": {},
     "output_type": "display_data"
    }
   ],
   "source": [
    "# groupping data by Promotion\n",
    "sales_by_promotion = df2.groupby(\"Promotion\")[\"SalesInThousands\"].sum(\n",
    "    ).reset_index().sort_values(\"SalesInThousands\", ascending=False)\n",
    "plt.pie(x=sales_by_promotion[\"SalesInThousands\"], autopct=\"%1.1f%%\", \n",
    "        startangle=90, counterclock=False)\n",
    "\n",
    "plt.title(\"Sales distribution across different different promotions\")\n",
    "plt.legend(sales_by_promotion[\"Promotion\"], loc=\"upper right\")\n",
    "plt.show()"
   ]
  },
  {
   "cell_type": "markdown",
   "metadata": {},
   "source": [
    "Explanation: \n",
    "\n",
    "----"
   ]
  },
  {
   "cell_type": "markdown",
   "metadata": {},
   "source": [
    "Using a boxplot to visualize the distribution of sales helps in understanding the central tendency, spread, and potential outliers across different promotion types. It provides a concise summary of the sales data distribution, making it easier to compare the impact of various promotions on sales."
   ]
  },
  {
   "cell_type": "code",
   "execution_count": 76,
   "metadata": {},
   "outputs": [
    {
     "name": "stdout",
     "output_type": "stream",
     "text": [
      "MarketSize    Large   Medium    Small\n",
      "Promotion                            \n",
      "1           4213.21  4576.57  1203.25\n",
      "2           3860.61  4224.35   812.97\n",
      "3           3705.79  5274.39  1428.34 \n",
      "\n"
     ]
    },
    {
     "data": {
      "image/png": "[encoded data removed]",
      "text/plain": [
       "<Figure size 640x480 with 1 Axes>"
      ]
     },
     "metadata": {},
     "output_type": "display_data"
    }
   ],
   "source": [
    "# Group the DataFrame by \"Promotion\" and \"MarketSize\" and \n",
    "# calculate the sum of \"SalesInThousands\" for each group\n",
    "sales_by_promotion_and_marketsize = df2.groupby([\"Promotion\",\"MarketSize\"]\n",
    "                            )[\"SalesInThousands\"].sum().reset_index()\n",
    "\n",
    "# Create a pivot table to reshape the data\n",
    "pivot_df = sales_by_promotion_and_marketsize.pivot(\n",
    "    index=\"Promotion\", columns=\"MarketSize\", \n",
    "    values=\"SalesInThousands\")\n",
    "print(pivot_df, \"\\n\")\n",
    "\n",
    "# plot stacked bar chart\n",
    "pivot_df.plot(kind=\"bar\",stacked=True)\n",
    "plt.ylabel(\"SalesInThousands\")\n",
    "plt.title(\"Sales distribution across different Promotions and Market Size\")\n",
    "plt.show()"
   ]
  },
  {
   "cell_type": "markdown",
   "metadata": {},
   "source": [
    "**ANOVA**"
   ]
  },
  {
   "cell_type": "code",
   "execution_count": 114,
   "metadata": {},
   "outputs": [
    {
     "name": "stdout",
     "output_type": "stream",
     "text": [
      "p value: 0.0000\n"
     ]
    }
   ],
   "source": [
    "from scipy.stats import f_oneway\n",
    "\n",
    "# H0: All group means are equal.\n",
    "# H1: At least one group mean is different.\n",
    "promo_1 = df2.loc[df2[\"Promotion\"]==1,\"SalesInThousands\"]\n",
    "promo_2 = df2.loc[df2[\"Promotion\"]==2,\"SalesInThousands\"]\n",
    "promo_3 = df2.loc[df2[\"Promotion\"]==3,\"SalesInThousands\"]\n",
    "\n",
    "f_stat, p_value = f_oneway(promo_1,promo_2,promo_3)\n",
    "print(f\"p value: %.4f\" % p_value)"
   ]
  },
  {
   "cell_type": "markdown",
   "metadata": {},
   "source": [
    "**Post-hoc t-Tests**"
   ]
  },
  {
   "cell_type": "code",
   "execution_count": 147,
   "metadata": {},
   "outputs": [
    {
     "name": "stdout",
     "output_type": "stream",
     "text": [
      "Mean difference between Promotion strategy 1 and Promotion strategy 2: 10.76959673428997\n",
      "p value: 0.0000\n",
      "\n",
      "\n",
      "Mean difference between Promotion strategy 1 and Promotion strategy 3: 2.734543542800594\n",
      "p value: 0.1208\n",
      "\n",
      "\n",
      "Mean difference between Promotion strategy 1 and Promotion strategy 3: -8.035053191489375\n",
      "p value: 0.0000\n"
     ]
    }
   ],
   "source": [
    "from scipy.stats import ttest_ind\n",
    "\n",
    "# H0: no statistically significant difference between promotion 1 and promotion 2\n",
    "# H1: significantly difference between promotion 1 and promotion 2\n",
    "print(f\"Mean difference between Promotion strategy 1 and Promotion strategy 2: {promo_1.mean() - promo_2.mean()}\")\n",
    "t_stat, p_value = ttest_ind(promo_1, promo_2)\n",
    "print(f\"p value: %.4f\" % p_value)\n",
    "print(\"\\n\")\n",
    "\n",
    "# H0: no statistically significant difference between promotion 1 and promotion 3\n",
    "# H1: significantly difference between promotion 1 and promotion 3\n",
    "print(f\"Mean difference between Promotion strategy 1 and Promotion strategy 3: {promo_1.mean() - promo_3.mean()}\")\n",
    "t_stat, p_value = ttest_ind(promo_1, promo_3)\n",
    "print(f\"p value: %.4f\" % p_value)\n",
    "print(\"\\n\")\n",
    "\n",
    "# H0: no statistically significant difference between promotion 2 and promotion 3\n",
    "# H1: significantly difference between promotion 2 and promotion 3\n",
    "print(f\"Mean difference between Promotion strategy 1 and Promotion strategy 3: {promo_2.mean() - promo_3.mean()}\")\n",
    "t_stat, p_value = ttest_ind(promo_2, promo_3)\n",
    "print(f\"p value: %.4f\" % p_value)"
   ]
  }
 ],
 "metadata": {
  "kernelspec": {
   "display_name": "quant_lab",
   "language": "python",
   "name": "python3"
  },
  "language_info": {
   "codemirror_mode": {
    "name": "ipython",
    "version": 3
   },
   "file_extension": ".py",
   "mimetype": "text/x-python",
   "name": "python",
   "nbconvert_exporter": "python",
   "pygments_lexer": "ipython3",
   "version": "3.9.0"
  },
  "orig_nbformat": 4
 },
 "nbformat": 4,
 "nbformat_minor": 2
}
