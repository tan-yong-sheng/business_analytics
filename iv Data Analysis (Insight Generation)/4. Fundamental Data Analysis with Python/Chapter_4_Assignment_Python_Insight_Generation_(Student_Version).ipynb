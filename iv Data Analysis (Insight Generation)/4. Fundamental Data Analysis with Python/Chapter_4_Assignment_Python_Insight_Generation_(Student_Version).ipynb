{
  "nbformat": 4,
  "nbformat_minor": 0,
  "metadata": {
    "colab": {
      "provenance": [],
      "include_colab_link": true
    },
    "kernelspec": {
      "name": "python3",
      "display_name": "Python 3"
    },
    "language_info": {
      "name": "python"
    }
  },
  "cells": [
    {
      "cell_type": "markdown",
      "metadata": {
        "id": "view-in-github",
        "colab_type": "text"
      },
      "source": [
        "<a href=\"https://colab.research.google.com/github/tys203831/business_analytics/blob/main/Chapter_4_Assignment_Python_Insight_Generation_(Student_Version).ipynb\" target=\"_parent\"><img src=\"https://colab.research.google.com/assets/colab-badge.svg\" alt=\"Open In Colab\"/></a>"
      ]
    },
    {
      "cell_type": "markdown",
      "source": [
        "# Chapter 4 Assignment - Python Insight Generation"
      ],
      "metadata": {
        "id": "cEqxXzTd3u5n"
      }
    },
    {
      "cell_type": "markdown",
      "source": [
        "#Import your Dataset"
      ],
      "metadata": {
        "id": "zOoy5Nt8cOq3"
      }
    },
    {
      "cell_type": "markdown",
      "source": [
        "1.   Copy the dataset 'Top 2000 Universities of the World.csv' on your drive.\n",
        "2.   You need to mount your drive, for reference please refer to lecture video\n",
        "3.   Copy the path of dataset from your drive and replace with the path given in read_csv('*insert path here*', encoding='utf-8', encoding_errors='replace') function below\n",
        "\n"
      ],
      "metadata": {
        "id": "G2zI6nAFrkt1"
      }
    },
    {
      "cell_type": "code",
      "execution_count": null,
      "metadata": {
        "id": "P7Tnnmq-3e8s"
      },
      "outputs": [],
      "source": [
        "import pandas as pd\n",
        "students = pd.read_csv(\"/content/drive/MyDrive/TalentLabs/students.csv\",  encoding='utf-8', encoding_errors='replace')\n",
        "#(\"/content/Dataset - Student Score Dataset.csv\")"
      ]
    },
    {
      "cell_type": "markdown",
      "source": [
        "## Question 1\n"
      ],
      "metadata": {
        "id": "eSOmf2bkhc5J"
      }
    },
    {
      "cell_type": "markdown",
      "source": [
        "Verify that your data set doesnot include NA, Nulls or any other values which would need the data preprocessing"
      ],
      "metadata": {
        "id": "aYkePiLDLovl"
      }
    },
    {
      "cell_type": "markdown",
      "source": [
        "## Question 2\n"
      ],
      "metadata": {
        "id": "fN2_KLp4cW3C"
      }
    },
    {
      "cell_type": "markdown",
      "source": [
        "Data description provides us a quick view of the data columns and the recorded values in our dataset. We need to make a quick view of our dataset to see how many rows, columns we have in our dataset, and how the data is distributed.\n",
        "\n",
        "Please do a quick study of the data using the describe function in pandas and answer the questions."
      ],
      "metadata": {
        "id": "kxJGVhHAteJ8"
      }
    },
    {
      "cell_type": "markdown",
      "source": [
        "**1. Shape of your datset**"
      ],
      "metadata": {
        "id": "tOvsAt32csDV"
      }
    },
    {
      "cell_type": "markdown",
      "source": [
        "**2. Describe your dataset**"
      ],
      "metadata": {
        "id": "INeILfkuuhIn"
      }
    },
    {
      "cell_type": "markdown",
      "source": [
        "## Question 3"
      ],
      "metadata": {
        "id": "KLdpsbhcuqUl"
      }
    },
    {
      "cell_type": "markdown",
      "source": [
        "In this question, you are required do some analysis for 4 of the data columns, and put down\n",
        "1. type (Numerical, Categorical) of each column,\n",
        "2. the description of each column, and\n",
        "3. values in each column (list out 3 sample values for categorical column, and the range of value for numerical values)\n",
        "\n",
        "The columns to study are:\n",
        "> Country, Institution, World Rank, Score\n"
      ],
      "metadata": {
        "id": "VfngkaALuvTP"
      }
    },
    {
      "cell_type": "markdown",
      "source": [
        "**Note**\n",
        "1. Column names and Dataframe names are case sensitive\n",
        "2. We have to use print() function to print multiple statements in one cell"
      ],
      "metadata": {
        "id": "0V4hn9G4gacr"
      }
    },
    {
      "cell_type": "markdown",
      "source": [
        "## Question 4\n",
        "\n"
      ],
      "metadata": {
        "id": "7v9akjT1S_AF"
      }
    },
    {
      "cell_type": "markdown",
      "source": [
        "Let’s say you want to find a university that has good alumni employment opportunities. From the dataset given,\n",
        "List out the top 10 universities based on employment ability.\n",
        "\n",
        "Also, list out the countries where these universities come from.\n",
        "(You can take help from the data aggregation strategies such as sorting, filtering etc)\n"
      ],
      "metadata": {
        "id": "3GlHvtbMTHMq"
      }
    },
    {
      "cell_type": "markdown",
      "source": [
        "## Question 5"
      ],
      "metadata": {
        "id": "-itppxvpWrbA"
      }
    },
    {
      "cell_type": "markdown",
      "source": [
        "or example, if we want to have a high level overview of the universities in the USA based on their world rank and overall scores, we can make a subset of data having World Rank, Score and Institution only. We can also further filter out universities that are not in the USA.\n",
        "\n",
        "To achieve that, please\n",
        "1. Create a subset data frame using filters on above mentioned columns\n",
        "2. And from this subset, filter out the Universities which belong to the USA (the output data frame should only contain universities from the USA).\n"
      ],
      "metadata": {
        "id": "fjGN7U69WtYw"
      }
    },
    {
      "cell_type": "markdown",
      "source": [
        "\n",
        "## Question 6\n",
        "\n"
      ],
      "metadata": {
        "id": "-JJFOb60hRwu"
      }
    },
    {
      "cell_type": "markdown",
      "source": [
        "Next, we would like to analyse which countries are having more high ranking and high quality universities and which countries have less.\n",
        "\n",
        "In order to generate these insights, you are required to make a summarised data frame with all the countries and their average score of the universities. (Hint: consider using the “groupby” function)\n",
        "\n",
        "After creating the data frame, answer the questions.\n"
      ],
      "metadata": {
        "id": "T_AM-dhBeR1t"
      }
    },
    {
      "cell_type": "markdown",
      "source": [
        "##Question 7"
      ],
      "metadata": {
        "id": "UXntcq5_fL46"
      }
    },
    {
      "cell_type": "markdown",
      "source": [
        "We have studied the Ranges, Quartiles and Interquartile range in detail. We can use it to help us in finding the outliers in the university dataset (i.e. those extremely good or bad universities).\n",
        "\n",
        "In order to perform this analysis, we will use the 1.5IQR method that we covered in class. If you forgot the method, please refer to the video.\n"
      ],
      "metadata": {
        "id": "N6yQgkcyfPd3"
      }
    }
  ]
}